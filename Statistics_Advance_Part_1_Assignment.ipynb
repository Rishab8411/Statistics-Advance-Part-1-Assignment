{
  "cells": [
    {
      "cell_type": "markdown",
      "source": [
        "# **Statistics Advance Part 1**\n",
        "\n",
        "---\n",
        "\n"
      ],
      "metadata": {
        "id": "d90CJ9A235gb"
      }
    },
    {
      "cell_type": "markdown",
      "metadata": {
        "id": "SXfNIs6Q3yEa"
      },
      "source": [
        "## Q1. What is a random variable in probability theory?\n",
        "A random variable is just a way to assign numbers to outcomes of a random process. For example, if I toss a coin, I can say heads = 1 and tails = 0. So instead of talking about heads or tails, I talk about numbers that represent them."
      ]
    },
    {
      "cell_type": "markdown",
      "metadata": {
        "id": "VLg7Gkb73yEb"
      },
      "source": [
        "## Q2. What are the types of random variables?\n",
        "There are mainly two types: **discrete** and **continuous**. Discrete random variables take specific values (like 0, 1, 2…), while continuous ones can take any value in a range (like 2.1, 2.11, 2.111…)."
      ]
    },
    {
      "cell_type": "markdown",
      "metadata": {
        "id": "uIkv7Xjh3yEc"
      },
      "source": [
        "## Q3. What is the difference between discrete and continuous distributions?\n",
        "The main difference is in the values they take. Discrete distributions are for countable outcomes (like number of people), and continuous distributions are for measurable things (like height or weight) where values can be infinite within a range."
      ]
    },
    {
      "cell_type": "markdown",
      "metadata": {
        "id": "l1sQQFhy3yEc"
      },
      "source": [
        "## Q4. What are probability distribution functions (PDF)?\n",
        "A PDF tells me how likely it is to get a specific value from a random variable. For discrete ones, it’s just the probability of each outcome. For continuous ones, it’s a function that shows the likelihood over an interval."
      ]
    },
    {
      "cell_type": "markdown",
      "metadata": {
        "id": "5IJ4gG_s3yEc"
      },
      "source": [
        "## Q5. How do cumulative distribution functions (CDF) differ from probability distribution functions (PDF)?\n",
        "A PDF shows the chance of getting a particular value. A CDF shows the total probability of getting a value **less than or equal to** a certain number. So CDF builds up from the PDF."
      ]
    },
    {
      "cell_type": "markdown",
      "metadata": {
        "id": "rf1u__4s3yEd"
      },
      "source": [
        "## Q6. What is a discrete uniform distribution?\n",
        "It’s when all outcomes are equally likely. For example, rolling a fair die is a discrete uniform distribution because every number from 1 to 6 has the same chance."
      ]
    },
    {
      "cell_type": "markdown",
      "metadata": {
        "id": "1-Of5-Ki3yEd"
      },
      "source": [
        "## Q7. What are the key properties of a Bernoulli distribution?\n",
        "It has only two outcomes—success (1) or failure (0). The main thing is that there's only **one trial**, and we just care about whether it was a success or not."
      ]
    },
    {
      "cell_type": "markdown",
      "metadata": {
        "id": "-BDZS7yM3yEd"
      },
      "source": [
        "## Q8. What is the binomial distribution, and how is it used in probability?\n",
        "The binomial distribution is used when we repeat a Bernoulli trial multiple times. Like flipping a coin 10 times and counting how many heads come up. It helps calculate the probability of getting a certain number of successes."
      ]
    },
    {
      "cell_type": "markdown",
      "metadata": {
        "id": "TsOx9jfy3yEd"
      },
      "source": [
        "## Q9. What is the Poisson distribution and where is it applied?\n",
        "Poisson is used to count how often an event happens in a fixed time or space when the events happen randomly and independently. Like the number of calls a call center gets in an hour."
      ]
    },
    {
      "cell_type": "markdown",
      "metadata": {
        "id": "IW5c3dOL3yEd"
      },
      "source": [
        "## Q10. What is a continuous uniform distribution?\n",
        "It’s similar to the discrete uniform one, but for continuous values. For example, if I pick a random number between 2 and 5, and every number in that range is equally likely, that’s a continuous uniform distribution."
      ]
    },
    {
      "cell_type": "markdown",
      "metadata": {
        "id": "UGKl31VY3yEd"
      },
      "source": [
        "## Q11. What are the characteristics of a normal distribution?\n",
        "A normal distribution is a bell-shaped curve that’s symmetric around the mean. Most values are close to the average, and the further you go from the center, the fewer values you get. Mean = median = mode."
      ]
    },
    {
      "cell_type": "markdown",
      "metadata": {
        "id": "1AXmFRSW3yEd"
      },
      "source": [
        "## Q12. What is the standard normal distribution, and why is it important?\n",
        "The standard normal distribution is just a normal distribution with a mean of 0 and standard deviation of 1. It’s important because we can use it to easily calculate probabilities using Z-scores."
      ]
    },
    {
      "cell_type": "markdown",
      "metadata": {
        "id": "w_q_8fwz3yEe"
      },
      "source": [
        "## Q13. What is the Central Limit Theorem (CLT), and why is it critical in statistics?\n",
        "CLT says that if I take enough samples from any population, the sample means will follow a normal distribution—even if the original data isn’t normal. This is why we can apply normal distribution tools to many real-world problems."
      ]
    },
    {
      "cell_type": "markdown",
      "metadata": {
        "id": "XQ8umrSi3yEe"
      },
      "source": [
        "## Q14. How does the Central Limit Theorem relate to the normal distribution?\n",
        "The CLT explains why the normal distribution appears so often—it tells us that the average of many small random variables tends to be normally distributed, which is why it's so widely used."
      ]
    },
    {
      "cell_type": "markdown",
      "metadata": {
        "id": "vc_As_I13yEe"
      },
      "source": [
        "## Q15. What is the application of Z statistics in hypothesis testing?\n",
        "Z statistics help me check how far my sample result is from the expected value (under the null hypothesis). I use it to decide if the difference is due to chance or if it's statistically significant."
      ]
    },
    {
      "cell_type": "markdown",
      "metadata": {
        "id": "uz7rJnVJ3yEe"
      },
      "source": [
        "## Q16. How do you calculate a Z-score, and what does it represent?\n",
        "Z-score = (Value - Mean) / Standard Deviation. It tells me how many standard deviations a value is from the mean. A high Z-score means it’s far from average."
      ]
    },
    {
      "cell_type": "markdown",
      "metadata": {
        "id": "LY5op3fY3yEe"
      },
      "source": [
        "## Q17. What are point estimates and interval estimates in statistics?\n",
        "A point estimate is a single number I use to guess a population value—like the average of a sample. An interval estimate gives a range (like 95% confidence interval) where the true value is likely to fall."
      ]
    },
    {
      "cell_type": "markdown",
      "metadata": {
        "id": "G0VwqneC3yEe"
      },
      "source": [
        "## Q18. What is the significance of confidence intervals in statistical analysis?\n",
        "Confidence intervals give me a range of values I can trust. For example, if I say the average height is 170 cm ± 5 cm with 95% confidence, I’m saying I’m 95% sure the real value is in that range."
      ]
    },
    {
      "cell_type": "markdown",
      "metadata": {
        "id": "bQtykVPA3yEe"
      },
      "source": [
        "## Q19. What is the relationship between a Z-score and a confidence interval?\n",
        "Z-scores are used to build confidence intervals. For example, for a 95% confidence level, I use a Z-score of 1.96. That helps me calculate how far above and below the mean the interval should go."
      ]
    },
    {
      "cell_type": "markdown",
      "metadata": {
        "id": "hVIwq3DX3yEe"
      },
      "source": [
        "## Q20. How are Z-scores used to compare different distributions?\n",
        "Z-scores help me compare values from different distributions by converting them to a standard scale. That way, I can say which value is more extreme, even if the datasets are totally different."
      ]
    },
    {
      "cell_type": "markdown",
      "metadata": {
        "id": "yCn8OoGB3yEf"
      },
      "source": [
        "## Q21. What are the assumptions for applying the Central Limit Theorem?\n",
        "The main assumptions are:\n",
        "1. The samples must be independent.\n",
        "2. The sample size should be large enough (usually n ≥ 30).\n",
        "3. The data should come from the same distribution."
      ]
    },
    {
      "cell_type": "markdown",
      "metadata": {
        "id": "_gWwh7V23yEf"
      },
      "source": [
        "## Q22. What is the concept of expected value in a probability distribution?\n",
        "The expected value is like the average I expect over the long run. If I repeat a random process many times, the expected value tells me the average outcome."
      ]
    },
    {
      "cell_type": "markdown",
      "metadata": {
        "id": "r-4L7nrn3yEf"
      },
      "source": [
        "## Q23. How does a probability distribution relate to the expected outcome of a random variable?\n",
        "The probability distribution shows all possible values and their chances, and when I use that info to calculate the average result, I get the expected value."
      ]
    }
  ],
  "metadata": {
    "colab": {
      "provenance": []
    },
    "kernelspec": {
      "display_name": "Python 3",
      "language": "python",
      "name": "python3"
    },
    "language_info": {
      "name": "python"
    }
  },
  "nbformat": 4,
  "nbformat_minor": 0
}